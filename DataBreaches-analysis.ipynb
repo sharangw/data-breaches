{
 "cells": [
  {
   "cell_type": "code",
   "execution_count": 1,
   "metadata": {},
   "outputs": [],
   "source": [
    "import pandas as pd\n",
    "import numpy as np\n",
    "import matplotlib.pyplot as plt\n",
    "import seaborn as sns\n",
    "\n",
    "%matplotlib inline\n",
    "\n",
    "pd.options.display.max_columns = 30\n",
    "\n",
    "plt.rcParams['figure.figsize'] = [15,9]\n",
    "plt.rcParams['figure.dpi'] = 150\n",
    "plt.rcParams[\"xtick.labelsize\"] = 20"
   ]
  },
  {
   "cell_type": "code",
   "execution_count": 2,
   "metadata": {},
   "outputs": [],
   "source": [
    "df = pd.read_csv('breaches.csv')"
   ]
  },
  {
   "cell_type": "code",
   "execution_count": 3,
   "metadata": {},
   "outputs": [],
   "source": [
    "breach = df.copy()"
   ]
  },
  {
   "cell_type": "markdown",
   "metadata": {},
   "source": [
    "## Cleaning"
   ]
  },
  {
   "cell_type": "code",
   "execution_count": 4,
   "metadata": {},
   "outputs": [],
   "source": [
    "## drop unnecessary columns\n",
    "\n",
    "breach.drop(['Order','StudentName','StudentEmail','StudentBreachNo','BreachID','Number_records_breached',\n",
    "             'Brief_breach_description','[2]. Sources(URLs)_of_Student_found_breach_description',\n",
    "             '[13]. Free credit or ID theft monitoring services offered to victims (Yes=1, No=0)',\n",
    "             '[14]. Duration of free credit / ID theft monitoring services (# of years)', 'Date_Breach_made_public',\n",
    "             'Unnamed: 33','Unnamed: 34'], axis=1, inplace=True)"
   ]
  },
  {
   "cell_type": "code",
   "execution_count": 5,
   "metadata": {},
   "outputs": [],
   "source": [
    "# rename columns for readability\n",
    "\n",
    "breach.columns = ['year', 'hospital', 'state', 'breach_type', 'location', 'desc', \n",
    "                  'technical_control', 'process_control', 'people_control', 'insider',\n",
    "                  'third_party', 'hacking', 'theft_loss', 'unintended_disclosure', 'discover_days',\n",
    "                  'num_patients', 'cost_free_credit', 'hipaa', 'hipaa_fee', 'court_case',\n",
    "                  'court_fee', 'remediation']"
   ]
  },
  {
   "cell_type": "code",
   "execution_count": 6,
   "metadata": {},
   "outputs": [
    {
     "data": {
      "text/html": [
       "<div>\n",
       "<style scoped>\n",
       "    .dataframe tbody tr th:only-of-type {\n",
       "        vertical-align: middle;\n",
       "    }\n",
       "\n",
       "    .dataframe tbody tr th {\n",
       "        vertical-align: top;\n",
       "    }\n",
       "\n",
       "    .dataframe thead th {\n",
       "        text-align: right;\n",
       "    }\n",
       "</style>\n",
       "<table border=\"1\" class=\"dataframe\">\n",
       "  <thead>\n",
       "    <tr style=\"text-align: right;\">\n",
       "      <th></th>\n",
       "      <th>year</th>\n",
       "      <th>hospital</th>\n",
       "      <th>state</th>\n",
       "      <th>breach_type</th>\n",
       "      <th>location</th>\n",
       "      <th>desc</th>\n",
       "      <th>technical_control</th>\n",
       "      <th>process_control</th>\n",
       "      <th>people_control</th>\n",
       "      <th>insider</th>\n",
       "      <th>third_party</th>\n",
       "      <th>hacking</th>\n",
       "      <th>theft_loss</th>\n",
       "      <th>unintended_disclosure</th>\n",
       "      <th>discover_days</th>\n",
       "      <th>num_patients</th>\n",
       "      <th>cost_free_credit</th>\n",
       "      <th>hipaa</th>\n",
       "      <th>hipaa_fee</th>\n",
       "      <th>court_case</th>\n",
       "      <th>court_fee</th>\n",
       "      <th>remediation</th>\n",
       "    </tr>\n",
       "  </thead>\n",
       "  <tbody>\n",
       "    <tr>\n",
       "      <th>0</th>\n",
       "      <td>2018</td>\n",
       "      <td>AdventHealth Rollins Brook Hospital</td>\n",
       "      <td>TX</td>\n",
       "      <td>Loss</td>\n",
       "      <td>Paper/Films</td>\n",
       "      <td>Couldn’t find information</td>\n",
       "      <td>0</td>\n",
       "      <td>1</td>\n",
       "      <td>1</td>\n",
       "      <td>1</td>\n",
       "      <td>0</td>\n",
       "      <td>0</td>\n",
       "      <td>1</td>\n",
       "      <td>1</td>\n",
       "      <td>NaN</td>\n",
       "      <td>5000</td>\n",
       "      <td>0</td>\n",
       "      <td>1</td>\n",
       "      <td>0</td>\n",
       "      <td>0</td>\n",
       "      <td>0</td>\n",
       "      <td>1</td>\n",
       "    </tr>\n",
       "    <tr>\n",
       "      <th>1</th>\n",
       "      <td>2011</td>\n",
       "      <td>Adventist Behavioral Health</td>\n",
       "      <td>MD</td>\n",
       "      <td>PHYS</td>\n",
       "      <td>NaN</td>\n",
       "      <td>Altamonte Springs, Fla.-based Adventist Health...</td>\n",
       "      <td>0</td>\n",
       "      <td>1</td>\n",
       "      <td>1</td>\n",
       "      <td>1</td>\n",
       "      <td>0</td>\n",
       "      <td>0</td>\n",
       "      <td>1</td>\n",
       "      <td>1</td>\n",
       "      <td>8</td>\n",
       "      <td>NaN</td>\n",
       "      <td>0</td>\n",
       "      <td>0</td>\n",
       "      <td>0</td>\n",
       "      <td>0</td>\n",
       "      <td>0</td>\n",
       "      <td>0</td>\n",
       "    </tr>\n",
       "    <tr>\n",
       "      <th>2</th>\n",
       "      <td>2013</td>\n",
       "      <td>Advocate Health and Hospitals Corporation</td>\n",
       "      <td>IL</td>\n",
       "      <td>Theft</td>\n",
       "      <td>Laptop</td>\n",
       "      <td>In the largest HIPAA enforcement settlement to...</td>\n",
       "      <td>0</td>\n",
       "      <td>1</td>\n",
       "      <td>1</td>\n",
       "      <td>0</td>\n",
       "      <td>1</td>\n",
       "      <td>0</td>\n",
       "      <td>1</td>\n",
       "      <td>0</td>\n",
       "      <td>30</td>\n",
       "      <td>4264</td>\n",
       "      <td>0</td>\n",
       "      <td>1</td>\n",
       "      <td>5,550,000</td>\n",
       "      <td>0</td>\n",
       "      <td>0</td>\n",
       "      <td>1</td>\n",
       "    </tr>\n",
       "  </tbody>\n",
       "</table>\n",
       "</div>"
      ],
      "text/plain": [
       "   year                                   hospital state breach_type  \\\n",
       "0  2018        AdventHealth Rollins Brook Hospital    TX        Loss   \n",
       "1  2011                Adventist Behavioral Health    MD        PHYS   \n",
       "2  2013  Advocate Health and Hospitals Corporation    IL       Theft   \n",
       "\n",
       "      location                                               desc  \\\n",
       "0  Paper/Films                          Couldn’t find information   \n",
       "1          NaN  Altamonte Springs, Fla.-based Adventist Health...   \n",
       "2       Laptop  In the largest HIPAA enforcement settlement to...   \n",
       "\n",
       "  technical_control process_control people_control insider third_party  \\\n",
       "0                 0               1              1       1           0   \n",
       "1                 0               1              1       1           0   \n",
       "2                 0               1              1       0           1   \n",
       "\n",
       "  hacking theft_loss unintended_disclosure discover_days num_patients  \\\n",
       "0       0          1                     1           NaN         5000   \n",
       "1       0          1                     1             8          NaN   \n",
       "2       0          1                     0            30         4264   \n",
       "\n",
       "  cost_free_credit hipaa  hipaa_fee court_case court_fee remediation  \n",
       "0                0     1          0          0         0           1  \n",
       "1                0     0          0          0         0           0  \n",
       "2                0     1  5,550,000          0         0           1  "
      ]
     },
     "execution_count": 6,
     "metadata": {},
     "output_type": "execute_result"
    }
   ],
   "source": [
    "breach.head(3)"
   ]
  },
  {
   "cell_type": "code",
   "execution_count": 7,
   "metadata": {},
   "outputs": [
    {
     "data": {
      "text/plain": [
       "['DISC',\n",
       " 'HACK',\n",
       " 'Hacking/IT Incident',\n",
       " 'Hacking/IT Incident, Unauthorized Access/Disclosure',\n",
       " 'INSD',\n",
       " 'Improper Disposal',\n",
       " 'Loss',\n",
       " 'Loss, Theft',\n",
       " 'Other',\n",
       " 'Other, Theft',\n",
       " 'Other, Unauthorized Access/Disclosure',\n",
       " 'Other, Unknown',\n",
       " 'PHYS',\n",
       " 'PORT',\n",
       " 'STAT',\n",
       " 'Theft',\n",
       " 'Theft, Unauthorized Access/Disclosure',\n",
       " 'UNKN',\n",
       " 'Unauthorized Access/Disclosure',\n",
       " 'Unknown']"
      ]
     },
     "execution_count": 7,
     "metadata": {},
     "output_type": "execute_result"
    }
   ],
   "source": [
    "sorted(list(breach['breach_type'].unique()))"
   ]
  },
  {
   "cell_type": "code",
   "execution_count": 8,
   "metadata": {},
   "outputs": [
    {
     "data": {
      "text/plain": [
       "array(['Loss', 'PHYS', 'Theft', 'STAT', 'HACK', 'Unauthorized Disclosure',\n",
       "       'PORT', 'Improper Disposal', 'INSD', 'Other', 'DISC'], dtype=object)"
      ]
     },
     "execution_count": 8,
     "metadata": {},
     "output_type": "execute_result"
    }
   ],
   "source": [
    "## Consolidate the different types of breaches\n",
    "\n",
    "typesDict = {\n",
    "    'DISC' : ['DISC'],\n",
    "    'INSD' : ['INSD'],\n",
    "    'HACK': ['HACK','Hacking/IT Incident', \n",
    "             'Hacking/IT Incident, Unauthorized Access/Disclosure'],\n",
    "    'Loss': ['Loss', 'Loss, Theft'],\n",
    "    'PHYS' : ['PHYS'],\n",
    "    'PORT' : ['PORT'],\n",
    "    'STAT' : ['STAT'],\n",
    "    'Theft': ['Theft', 'Theft, Unauthorized Access/Disclosure', 'Other, Theft'],\n",
    "    'Unauthorized Disclosure': ['Unauthorized Access/Disclosure', \n",
    "                                'Other, Unauthorized Access/Disclosure'],    \n",
    "    'Improper Disposal' : ['Improper Disposal'],   \n",
    "    'Other': ['Other', 'Other, Unknown', 'UNKN', 'Unknown']\n",
    "}\n",
    "\n",
    "for key in typesDict.keys():\n",
    "    breach.breach_type.replace(to_replace=typesDict[key], value=key, inplace=True)\n",
    "\n",
    "breach.breach_type.unique()"
   ]
  },
  {
   "cell_type": "code",
   "execution_count": 9,
   "metadata": {},
   "outputs": [
    {
     "data": {
      "image/png": "[encoded data removed]",
      "text/plain": [
       "<Figure size 432x288 with 1 Axes>"
      ]
     },
     "metadata": {
      "needs_background": "light"
     },
     "output_type": "display_data"
    }
   ],
   "source": [
    "## plot the breach types by frequency\n",
    "\n",
    "ax = sns.countplot(x='breach_type',data=breach, order=breach['breach_type'].value_counts().index)\n",
    "\n",
    "ax.set_xticklabels(ax.get_xticklabels(), fontsize=15, rotation=40)\n",
    "ax.set_title(\"Types of Breaches By Frequency\", fontsize=20)\n",
    "plt.tight_layout()\n",
    "plt.show()\n",
    "\n",
    "# breach['breach_type'].value_counts().plot(kind='bar')"
   ]
  },
  {
   "cell_type": "code",
   "execution_count": 10,
   "metadata": {},
   "outputs": [
    {
     "data": {
      "image/png": "[encoded data removed]",
      "text/plain": [
       "<Figure size 432x288 with 1 Axes>"
      ]
     },
     "metadata": {
      "needs_background": "light"
     },
     "output_type": "display_data"
    }
   ],
   "source": [
    "## plot the breaches by state frequency\n",
    "\n",
    "ax = sns.countplot(x='state',data=breach, order=breach['state'].value_counts().index[:15])\n",
    "\n",
    "ax.set_xticklabels(ax.get_xticklabels(), fontsize=20)\n",
    "ax.set_title(\"Top 15 States with Most Breaches\", fontsize=20)\n",
    "plt.tight_layout()\n",
    "plt.show()"
   ]
  },
  {
   "cell_type": "code",
   "execution_count": 11,
   "metadata": {},
   "outputs": [
    {
     "data": {
      "text/plain": [
       "['Desktop Computer',\n",
       " 'Desktop Computer, Electronic Medical Record',\n",
       " 'Desktop Computer, Electronic Medical Record, Email, Laptop, Network Server',\n",
       " 'Desktop Computer, Electronic Medical Record, Laptop, Network Server',\n",
       " 'Desktop Computer, Electronic Medical Record, Network Server',\n",
       " 'Desktop Computer, Electronic Medical Record, Other',\n",
       " 'Desktop Computer, Email',\n",
       " 'Desktop Computer, Email, Laptop, Network Server',\n",
       " 'Desktop Computer, Email, Network Server',\n",
       " 'Desktop Computer, Laptop',\n",
       " 'Desktop Computer, Network Server',\n",
       " 'Desktop Computer, Other',\n",
       " 'Desktop Computer, Other Portable Electronic Device, Paper/Films',\n",
       " 'Desktop Computer, Paper/Films',\n",
       " 'Electronic Medical Record',\n",
       " 'Electronic Medical Record, Email',\n",
       " 'Electronic Medical Record, Email, Laptop, Paper/Films',\n",
       " 'Electronic Medical Record, Network Server',\n",
       " 'Electronic Medical Record, Network Server, Other',\n",
       " 'Electronic Medical Record, Other',\n",
       " 'Electronic Medical Record, Paper/Films',\n",
       " 'Electronic Medical Record/CD',\n",
       " 'Email',\n",
       " 'Email, Laptop, Network Server',\n",
       " 'Email, Network Server',\n",
       " 'Email, Other Portable Electronic Device',\n",
       " 'Laptop',\n",
       " 'Laptop, Network Server',\n",
       " 'Laptop, Other Portable Electronic Device',\n",
       " 'Laptop, Paper/Films',\n",
       " 'Network Server',\n",
       " 'Network Server, Other',\n",
       " 'Network Server, Paper/Films',\n",
       " 'Other',\n",
       " 'Other Portable Electronic Device',\n",
       " 'Other, Other Portable Electronic Device',\n",
       " 'Other, Paper/Films',\n",
       " 'Paper/Films',\n",
       " 'Unspecified']"
      ]
     },
     "execution_count": 11,
     "metadata": {},
     "output_type": "execute_result"
    }
   ],
   "source": [
    "breach.location.fillna(\"Unspecified\", inplace=True)\n",
    "sorted(list(breach['location'].unique()))"
   ]
  },
  {
   "cell_type": "code",
   "execution_count": 12,
   "metadata": {},
   "outputs": [
    {
     "data": {
      "text/plain": [
       "['Desktop Computer',\n",
       " 'Electronic Medical Record',\n",
       " 'Email',\n",
       " 'Laptop',\n",
       " 'Network Server',\n",
       " 'Other',\n",
       " 'Paper/Films']"
      ]
     },
     "execution_count": 12,
     "metadata": {},
     "output_type": "execute_result"
    }
   ],
   "source": [
    "## Consolidate the different breach locations\n",
    "\n",
    "locsDict = {\n",
    "    'Desktop Computer' : '(?i)Desktop Computer?.+',\n",
    "    'Electronic Medical Record': '(?i)Electronic Medical Record?.+',\n",
    "    'Email': '(?i)Email?.+',\n",
    "    'Laptop': '(?i)Laptop?.+',\n",
    "    'Network Server': '(?i)Network Server?.+',\n",
    "    'Paper/Films': ['Paper/Films'],\n",
    "    'Other': '^(?!.*^(Desktop Computer|Electronic Medical Record|Email|Laptop|Network Server|Paper/Films)).*'\n",
    "}\n",
    "\n",
    "for key in locsDict.keys():\n",
    "    breach.location.replace(to_replace=locsDict[key], value=key, regex=True, inplace=True)\n",
    "\n",
    "sorted(list(breach['location'].unique()))"
   ]
  },
  {
   "cell_type": "code",
   "execution_count": 13,
   "metadata": {},
   "outputs": [
    {
     "data": {
      "image/png": "[encoded data removed]",
      "text/plain": [
       "<Figure size 432x288 with 1 Axes>"
      ]
     },
     "metadata": {
      "needs_background": "light"
     },
     "output_type": "display_data"
    }
   ],
   "source": [
    "## plot the breaches by location frequency\n",
    "\n",
    "ax = sns.countplot(x='location',data=breach, order=breach['location'].value_counts().index)\n",
    "\n",
    "ax.set_xticklabels(ax.get_xticklabels(), fontsize=15)\n",
    "ax.set_title(\"Locations of Breaches By Frequency\", fontsize=20)\n",
    "plt.tight_layout()\n",
    "plt.show()"
   ]
  },
  {
   "cell_type": "code",
   "execution_count": 14,
   "metadata": {},
   "outputs": [
    {
     "data": {
      "text/plain": [
       "1                                                                     469\n",
       "0                                                                     270\n",
       "\"Not Disclosed\"                                                         3\n",
       "UNKNOWN                                                                 3\n",
       "no actions mentioned to correct breach                                  3\n",
       "No Data Available - Cannot be determined                                3\n",
       "No information                                                          2\n",
       "\"No Info on Breach\"                                                     2\n",
       "only states \"it appers they will revisit their encryption process\"      1\n",
       "could not find any source information regarding breach                  1\n",
       "cannot be determined                                                    1\n",
       "no actions were specified                                               1\n",
       "Name: remediation, dtype: int64"
      ]
     },
     "execution_count": 14,
     "metadata": {},
     "output_type": "execute_result"
    }
   ],
   "source": [
    "breach.remediation.value_counts()"
   ]
  },
  {
   "cell_type": "code",
   "execution_count": 15,
   "metadata": {},
   "outputs": [
    {
     "data": {
      "text/plain": [
       "1.0    469\n",
       "0.0    400\n",
       "Name: remediation, dtype: int64"
      ]
     },
     "execution_count": 15,
     "metadata": {},
     "output_type": "execute_result"
    }
   ],
   "source": [
    "## make the amount columns to be strictly numerical\n",
    "## if there is text, then set it to 0 (there aren't that many of these cases)\n",
    "\n",
    "num_cols = ['discover_days', 'num_patients', 'cost_free_credit', 'hipaa', 'hipaa_fee', 'court_case', 'court_fee', 'remediation']\n",
    "for col in range(len(num_cols)):\n",
    "    breach[num_cols[col]] = breach[num_cols[col]].apply(pd.to_numeric, errors='coerce')\n",
    "    breach[num_cols[col]].fillna(0, inplace=True)\n",
    "\n",
    "breach.remediation.value_counts()"
   ]
  },
  {
   "cell_type": "code",
   "execution_count": 16,
   "metadata": {},
   "outputs": [
    {
     "data": {
      "text/plain": [
       "0                                                         662\n",
       "1                                                         185\n",
       "No Data Available - Cannot be determined                    2\n",
       "\"No Info on Breach\"                                         2\n",
       "could not find any source information regarding breach      1\n",
       "Name: hacking, dtype: int64"
      ]
     },
     "execution_count": 16,
     "metadata": {},
     "output_type": "execute_result"
    }
   ],
   "source": [
    "breach.hacking.value_counts()"
   ]
  },
  {
   "cell_type": "code",
   "execution_count": 17,
   "metadata": {},
   "outputs": [
    {
     "data": {
      "text/plain": [
       "0    639\n",
       "1    182\n",
       "Name: hacking, dtype: int64"
      ]
     },
     "execution_count": 17,
     "metadata": {},
     "output_type": "execute_result"
    }
   ],
   "source": [
    "## remove records with not enough info about breach (very few records):\n",
    "\n",
    "def filterRecords(row):\n",
    "    if str(row) != '0' and str(row) != '1':\n",
    "        return 'noInfo'\n",
    "\n",
    "cols = ['technical_control', 'process_control', 'people_control', 'insider', \n",
    "        'third_party', 'hacking', 'theft_loss', 'unintended_disclosure']\n",
    "\n",
    "for i in range(len(cols)):\n",
    "    noInfo = breach[cols[i]].apply(filterRecords)\n",
    "    noInfo_index = breach.index[noInfo == 'noInfo']\n",
    "    breach.drop(noInfo_index, inplace=True)\n",
    "    \n",
    "breach.hacking.value_counts()"
   ]
  },
  {
   "cell_type": "code",
   "execution_count": 18,
   "metadata": {},
   "outputs": [
    {
     "data": {
      "text/plain": [
       "(821, 22)"
      ]
     },
     "execution_count": 18,
     "metadata": {},
     "output_type": "execute_result"
    }
   ],
   "source": [
    "breach.shape"
   ]
  },
  {
   "cell_type": "markdown",
   "metadata": {},
   "source": [
    "## Cleaning Done"
   ]
  },
  {
   "cell_type": "code",
   "execution_count": 19,
   "metadata": {},
   "outputs": [],
   "source": [
    "breach.to_csv('cleaned_breaches.csv',index=False)"
   ]
  },
  {
   "cell_type": "code",
   "execution_count": 20,
   "metadata": {},
   "outputs": [
    {
     "data": {
      "text/plain": [
       "(821, 22)"
      ]
     },
     "execution_count": 20,
     "metadata": {},
     "output_type": "execute_result"
    }
   ],
   "source": [
    "df = pd.read_csv('cleaned_breaches.csv')\n",
    "df.shape"
   ]
  },
  {
   "cell_type": "markdown",
   "metadata": {},
   "source": [
    "## Analysis"
   ]
  },
  {
   "cell_type": "code",
   "execution_count": 55,
   "metadata": {},
   "outputs": [],
   "source": [
    "from sklearn.linear_model import LogisticRegression\n",
    "from sklearn.linear_model import LinearRegression \n",
    "from sklearn.model_selection import train_test_split\n",
    "from sklearn.metrics import r2_score, roc_auc_score\n",
    "import warnings\n",
    "warnings.filterwarnings('ignore')"
   ]
  },
  {
   "cell_type": "code",
   "execution_count": 22,
   "metadata": {},
   "outputs": [
    {
     "data": {
      "text/html": [
       "<div>\n",
       "<style scoped>\n",
       "    .dataframe tbody tr th:only-of-type {\n",
       "        vertical-align: middle;\n",
       "    }\n",
       "\n",
       "    .dataframe tbody tr th {\n",
       "        vertical-align: top;\n",
       "    }\n",
       "\n",
       "    .dataframe thead th {\n",
       "        text-align: right;\n",
       "    }\n",
       "</style>\n",
       "<table border=\"1\" class=\"dataframe\">\n",
       "  <thead>\n",
       "    <tr style=\"text-align: right;\">\n",
       "      <th></th>\n",
       "      <th>year</th>\n",
       "      <th>hospital</th>\n",
       "      <th>state</th>\n",
       "      <th>breach_type</th>\n",
       "      <th>location</th>\n",
       "      <th>desc</th>\n",
       "      <th>technical_control</th>\n",
       "      <th>process_control</th>\n",
       "      <th>people_control</th>\n",
       "      <th>insider</th>\n",
       "      <th>third_party</th>\n",
       "      <th>hacking</th>\n",
       "      <th>theft_loss</th>\n",
       "      <th>unintended_disclosure</th>\n",
       "      <th>discover_days</th>\n",
       "      <th>num_patients</th>\n",
       "      <th>cost_free_credit</th>\n",
       "      <th>hipaa</th>\n",
       "      <th>hipaa_fee</th>\n",
       "      <th>court_case</th>\n",
       "      <th>court_fee</th>\n",
       "      <th>remediation</th>\n",
       "    </tr>\n",
       "  </thead>\n",
       "  <tbody>\n",
       "    <tr>\n",
       "      <th>0</th>\n",
       "      <td>2018</td>\n",
       "      <td>AdventHealth Rollins Brook Hospital</td>\n",
       "      <td>TX</td>\n",
       "      <td>Loss</td>\n",
       "      <td>Paper/Films</td>\n",
       "      <td>Couldn’t find information</td>\n",
       "      <td>0</td>\n",
       "      <td>1</td>\n",
       "      <td>1</td>\n",
       "      <td>1</td>\n",
       "      <td>0</td>\n",
       "      <td>0</td>\n",
       "      <td>1</td>\n",
       "      <td>1</td>\n",
       "      <td>0.0</td>\n",
       "      <td>5000.0</td>\n",
       "      <td>0.0</td>\n",
       "      <td>1.0</td>\n",
       "      <td>0.0</td>\n",
       "      <td>0.0</td>\n",
       "      <td>0.0</td>\n",
       "      <td>1.0</td>\n",
       "    </tr>\n",
       "    <tr>\n",
       "      <th>1</th>\n",
       "      <td>2011</td>\n",
       "      <td>Adventist Behavioral Health</td>\n",
       "      <td>MD</td>\n",
       "      <td>PHYS</td>\n",
       "      <td>Other</td>\n",
       "      <td>Altamonte Springs, Fla.-based Adventist Health...</td>\n",
       "      <td>0</td>\n",
       "      <td>1</td>\n",
       "      <td>1</td>\n",
       "      <td>1</td>\n",
       "      <td>0</td>\n",
       "      <td>0</td>\n",
       "      <td>1</td>\n",
       "      <td>1</td>\n",
       "      <td>8.0</td>\n",
       "      <td>0.0</td>\n",
       "      <td>0.0</td>\n",
       "      <td>0.0</td>\n",
       "      <td>0.0</td>\n",
       "      <td>0.0</td>\n",
       "      <td>0.0</td>\n",
       "      <td>0.0</td>\n",
       "    </tr>\n",
       "    <tr>\n",
       "      <th>2</th>\n",
       "      <td>2013</td>\n",
       "      <td>Advocate Health and Hospitals Corporation</td>\n",
       "      <td>IL</td>\n",
       "      <td>Theft</td>\n",
       "      <td>Laptop</td>\n",
       "      <td>In the largest HIPAA enforcement settlement to...</td>\n",
       "      <td>0</td>\n",
       "      <td>1</td>\n",
       "      <td>1</td>\n",
       "      <td>0</td>\n",
       "      <td>1</td>\n",
       "      <td>0</td>\n",
       "      <td>1</td>\n",
       "      <td>0</td>\n",
       "      <td>30.0</td>\n",
       "      <td>4264.0</td>\n",
       "      <td>0.0</td>\n",
       "      <td>1.0</td>\n",
       "      <td>0.0</td>\n",
       "      <td>0.0</td>\n",
       "      <td>0.0</td>\n",
       "      <td>1.0</td>\n",
       "    </tr>\n",
       "  </tbody>\n",
       "</table>\n",
       "</div>"
      ],
      "text/plain": [
       "   year                                   hospital state breach_type  \\\n",
       "0  2018        AdventHealth Rollins Brook Hospital    TX        Loss   \n",
       "1  2011                Adventist Behavioral Health    MD        PHYS   \n",
       "2  2013  Advocate Health and Hospitals Corporation    IL       Theft   \n",
       "\n",
       "      location                                               desc  \\\n",
       "0  Paper/Films                          Couldn’t find information   \n",
       "1        Other  Altamonte Springs, Fla.-based Adventist Health...   \n",
       "2       Laptop  In the largest HIPAA enforcement settlement to...   \n",
       "\n",
       "   technical_control  process_control  people_control  insider  third_party  \\\n",
       "0                  0                1               1        1            0   \n",
       "1                  0                1               1        1            0   \n",
       "2                  0                1               1        0            1   \n",
       "\n",
       "   hacking  theft_loss  unintended_disclosure  discover_days  num_patients  \\\n",
       "0        0           1                      1            0.0        5000.0   \n",
       "1        0           1                      1            8.0           0.0   \n",
       "2        0           1                      0           30.0        4264.0   \n",
       "\n",
       "   cost_free_credit  hipaa  hipaa_fee  court_case  court_fee  remediation  \n",
       "0               0.0    1.0        0.0         0.0        0.0          1.0  \n",
       "1               0.0    0.0        0.0         0.0        0.0          0.0  \n",
       "2               0.0    1.0        0.0         0.0        0.0          1.0  "
      ]
     },
     "execution_count": 22,
     "metadata": {},
     "output_type": "execute_result"
    }
   ],
   "source": [
    "df.head(3)"
   ]
  },
  {
   "cell_type": "code",
   "execution_count": 40,
   "metadata": {},
   "outputs": [],
   "source": [
    "X = df.loc[:,['technical_control','process_control','people_control']].values\n",
    "y = df.loc[:,['hipaa']].values"
   ]
  },
  {
   "cell_type": "markdown",
   "metadata": {},
   "source": [
    "### Linear Regression"
   ]
  },
  {
   "cell_type": "code",
   "execution_count": 53,
   "metadata": {},
   "outputs": [
    {
     "data": {
      "text/plain": [
       "array([[0.07553077, 0.08020425, 0.09182933]])"
      ]
     },
     "execution_count": 53,
     "metadata": {},
     "output_type": "execute_result"
    }
   ],
   "source": [
    "LinReg = LinearRegression()\n",
    "OLS = LinReg.fit(X,y)\n",
    "OLS.coef_"
   ]
  },
  {
   "cell_type": "markdown",
   "metadata": {},
   "source": [
    "### Logisitic Regression"
   ]
  },
  {
   "cell_type": "code",
   "execution_count": 56,
   "metadata": {},
   "outputs": [
    {
     "data": {
      "text/plain": [
       "array([[0.34474073, 0.36199009, 0.41103926]])"
      ]
     },
     "execution_count": 56,
     "metadata": {},
     "output_type": "execute_result"
    }
   ],
   "source": [
    "LogReg = LogisticRegression(fit_intercept = True)\n",
    "model = LogReg.fit(X,y)\n",
    "model.coef_"
   ]
  },
  {
   "cell_type": "markdown",
   "metadata": {},
   "source": [
    "The coefficents are 0.34 for technical, 0.36 for process, and 0.41 for people control **weaknesses**.\n",
    "\n",
    "People controls seems to be the most important factor when it comes to HIPAA violation. Therefore, having strong people controls in place is the most guaranteed way to ensuring no HIPAA violations occur."
   ]
  },
  {
   "cell_type": "code",
   "execution_count": 45,
   "metadata": {},
   "outputs": [],
   "source": []
  },
  {
   "cell_type": "code",
   "execution_count": null,
   "metadata": {},
   "outputs": [],
   "source": []
  },
  {
   "cell_type": "code",
   "execution_count": null,
   "metadata": {},
   "outputs": [],
   "source": []
  }
 ],
 "metadata": {
  "kernelspec": {
   "display_name": "Python 3",
   "language": "python",
   "name": "python3"
  },
  "language_info": {
   "codemirror_mode": {
    "name": "ipython",
    "version": 3
   },
   "file_extension": ".py",
   "mimetype": "text/x-python",
   "name": "python",
   "nbconvert_exporter": "python",
   "pygments_lexer": "ipython3",
   "version": "3.7.3"
  }
 },
 "nbformat": 4,
 "nbformat_minor": 2
}
